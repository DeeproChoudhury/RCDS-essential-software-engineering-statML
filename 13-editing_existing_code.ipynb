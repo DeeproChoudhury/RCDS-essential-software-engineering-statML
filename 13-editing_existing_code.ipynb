{
 "cells": [
  {
   "cell_type": "markdown",
   "metadata": {},
   "source": [
    "# Editing Existing Code\n",
    "\n",
    "Copilot can be used to edit or add to existing code in a number of useful ways. "
   ]
  },
  {
   "cell_type": "markdown",
   "metadata": {},
   "source": [
    "## Documenting and Commenting Code\n",
    "\n",
    "Properly documenting and commenting code is important for making it understandable and maintainable, particularly if you're collaborating with others, or intend to share your code publicly. It's often a task that programmers choose to put off as it can be time-consuming and tedious. Copilot can help with this by generating comments for you, based on the code you've written.\n",
    "\n",
    "The best way to do this is to highlight a section of code, then press `Ctrl + I`, then type in ```/doc``` to ask Copilot to generate docstrings for any functions in your code. You may have to do this one function at a time, You can also write a command like \"comment this\" to ask Copilot to generate comments for the selected code. You can also type the comment character (```#``` in Python) where you want a comment to be, then use the autocomplete suggestions to generate a comment. You may need to experiment with different approaches to generate comments at the right level of detail for your code."
   ]
  },
  {
   "cell_type": "code",
   "execution_count": null,
   "metadata": {},
   "outputs": [],
   "source": [
    "import math\n",
    "\n",
    "def rocket_velocity_change(exhaust_velocity, initial_mass, final_mass):\n",
    "    \"\"\"\n",
    "    Calculate the change in velocity of a rocket using the Tsiolkovsky rocket equation.\n",
    "\n",
    "    Parameters:\n",
    "    exhaust_velocity (float): The effective exhaust velocity of the rocket (m/s).\n",
    "    initial_mass (float): The initial mass of the rocket (kg).\n",
    "    final_mass (float): The final mass of the rocket after expelling fuel (kg).\n",
    "\n",
    "    Returns:\n",
    "    float: The change in velocity of the rocket (m/s).\n",
    "\n",
    "    Raises:\n",
    "    ValueError: If initial_mass is less than or equal to final_mass.\n",
    "    \"\"\"\n",
    "    if initial_mass <= final_mass:\n",
    "        raise ValueError(\"Initial mass must be greater than final mass\")\n",
    "    return exhaust_velocity * math.log(initial_mass / final_mass)\n",
    "\n",
    "\n",
    "def read_value(filepath, value_name):\n",
    "    with open(filepath, 'r') as f:\n",
    "        for line in f:\n",
    "            if line.startswith(value_name):\n",
    "                try:\n",
    "                    return float(line.split()[1])\n",
    "                except IndexError:\n",
    "                    raise ValueError(f'Value \"{value_name}\" was found in file \"{filepath}\" but no value was found after it')\n",
    "                except ValueError:\n",
    "                    raise ValueError(f'Value \"{value_name}\" was found in file \"{filepath}\" but the value after it was not a number')\n",
    "        else:\n",
    "            raise ValueError(f'Value \"{value_name}\" not found in file \"{filepath}\"')\n",
    "\n",
    "\n",
    "def rocket_velocity_change_from_file(filepath):\n",
    "    exhaust_velocity = read_value(filepath, 'exhaust_velocity')\n",
    "    initial_mass = read_value(filepath, 'initial_mass')\n",
    "    final_mass = read_value(filepath, 'final_mass')\n",
    "    return rocket_velocity_change(exhaust_velocity, initial_mass, final_mass)\n",
    "\n",
    "\n",
    "print(rocket_velocity_change_from_file('resources/rocket_input.txt'))\n"
   ]
  },
  {
   "cell_type": "markdown",
   "metadata": {},
   "source": [
    "## Improving Code\n",
    "\n",
    "You can ask Copilot to provide you with suggestions of how to improve a piece of code. You may find this easiest to do in the chat window as it makes follow-up questions easier. You could ask a general question such as \"How can I improve this code?\" or a more specific question such as:\n",
    "* \"How can I make this code more efficient?\" \n",
    "* \"How can I make this code more readable?\"\n",
    "* \"How can I split this code into smaller functions?\"\n",
    "* \"How can I make this code more robust?\"\n",
    "* \"How can I make this code more secure?\"\n",
    "* \"How can I make this function more flexible?\"\n",
    "\n",
    "If Copilot suggests changes that uses constructs or techniques you're not familiar with, you can ask for an explanation of how they work. This can be a great way to learn new programming techniques."
   ]
  },
  {
   "cell_type": "code",
   "execution_count": null,
   "metadata": {},
   "outputs": [],
   "source": [
    "def sum_of_squares(lst):\n",
    "    \"\"\"\n",
    "    Calculate the sum of squares of all elements in a list.\n",
    "    \n",
    "    Parameters:\n",
    "    lst (list): A list of numbers\n",
    "    \n",
    "    Returns:\n",
    "    float or int: The sum of squares of all elements in the list\n",
    "    \"\"\"\n",
    "    return sum(value ** 2 for value in lst)"
   ]
  },
  {
   "cell_type": "markdown",
   "metadata": {},
   "source": [
    "## Fixing Code\n",
    "\n",
    "Copilot can also attempt to help you fix errors in your code. You can do this by highlighting code, clicking `Ctrl + I`, and typing in ```/fix```. This will prompt Copilot to generate suggestions for fixing the selected code. You can then choose from the suggestions provided to fix the error. You can also type in a more qualitative message. Here are some tips:\n",
    "\n",
    "* If the code returns an error message, you can describe the error message in your prompt to help Copilot understand the problem.\n",
    "* If the code runs but returns the wrong output, you can describe the expected output in your prompt to help Copilot understand the problem.\n",
    "* The more you can localise the problem, the better.\n",
    "* Copilot will be better at fixing code which solves common problems as it will have seen solutions to the problem before.\n",
    "* Copilot is particularly good at suggesting fixes to syntax errors, but may struggle with more complex errors.\n",
    "* Copilot does not know what your code is supposed to do, so it may suggest inappropriate fixes.\n",
    "* If you've commented your code well and used descriptive variable names, Copilot is more likely to understand what you want your code to do and suggest appropriate fixes."
   ]
  },
  {
   "cell_type": "code",
   "execution_count": 1,
   "metadata": {},
   "outputs": [
    {
     "ename": "IndentationError",
     "evalue": "expected an indented block after 'if' statement on line 3 (213914841.py, line 4)",
     "output_type": "error",
     "traceback": [
      "\u001b[0;36m  Cell \u001b[0;32mIn[1], line 4\u001b[0;36m\u001b[0m\n\u001b[0;31m    return None\u001b[0m\n\u001b[0m    ^\u001b[0m\n\u001b[0;31mIndentationError\u001b[0m\u001b[0;31m:\u001b[0m expected an indented block after 'if' statement on line 3\n"
     ]
    }
   ],
   "source": [
    "def get_second_largest_unique_value(lst):\n",
    "    unique_values = set(lst)\n",
    "    if len(unique_values) < 2:\n",
    "    return None\n",
    "    unique_values.remove(max(unique_values))\n",
    "    return min(unique_values)"
   ]
  },
  {
   "cell_type": "markdown",
   "metadata": {},
   "source": [
    "## Generating Tests\n",
    "\n",
    "You can generate formal tests for piece of code by highlighting the code, pressing `Ctrl + I`, and typing in ```/tests```. This will prompt Copilot to generate tests for the selected code. Here are some tips and details:\n",
    "\n",
    "* Copilot may set up your VS Code settings to integrate with your new tests. \n",
    "In Python, tests are normally written for functions in ```.py``` files (such as [quadratic.py](quadratic.py)), rather than in Jupyter notebooks.\n",
    "* As tests are normally stored in a separate file to the code they test, Copilot may suggest creating a new file. Hover over the suggested code to see where Copilot suggests the tests should go. If you have a directory for tests, you may need to move the file to the appropriate location.\n",
    "* When importing your code into the test file, you may need to adjust the import statement to match the location of the code you're testing.\n",
    "* You can ask Copilot to give you tests to match a particular testing framework such as ```unittest``` or ```pytest```. \n",
    "* Once you have some tests, you can ask for more tests to cover particular cases.\n",
    "* Copilot doesn't know what values your code should return in different cases, so it may provide tests that attempt to cover the right behaviour but with the wrong input values or expected values. You should always check the values in tests generated by Copilot."
   ]
  },
  {
   "cell_type": "markdown",
   "metadata": {},
   "source": [
    "## Exercise\n",
    "\n"
   ]
  },
  {
   "cell_type": "markdown",
   "metadata": {},
   "source": [
    "The code below is a poorly written Python function which intends to interpolate between two points in 2D Cartesian space and find the value at a specified value of $x$. This value of $x$ should be between the $x$ coordinates of the two points. The function should return the $y$ value at the specified $x$ value, using linear interpolation.\n",
    "\n",
    "Use Copilot to:\n",
    "* Document the code.\n",
    "* Fix any errors.\n",
    "* Generate tests for the code. You may copy this function into another file, or copy the tests into this code cell if you wish."
   ]
  },
  {
   "cell_type": "code",
   "execution_count": 2,
   "metadata": {},
   "outputs": [
    {
     "ename": "SyntaxError",
     "evalue": "expected ':' (711207661.py, line 2)",
     "output_type": "error",
     "traceback": [
      "\u001b[0;36m  Cell \u001b[0;32mIn[2], line 2\u001b[0;36m\u001b[0m\n\u001b[0;31m    if x < x1 or x > x2\u001b[0m\n\u001b[0m                       ^\u001b[0m\n\u001b[0;31mSyntaxError\u001b[0m\u001b[0;31m:\u001b[0m expected ':'\n"
     ]
    }
   ],
   "source": [
    "def linear_interpolation(x1, y1, x2, y2, x):\n",
    "    if x < x1 or x > x2\n",
    "        raise ValueError(f'x value {x} is outside the range [{x1}, {x2}]')\n",
    "\n",
    "    gradient = (y2 - y2) / (x2 - x1)\n",
    "    y_intercept = y1 - gradient * x1\n",
    "    return gradient * x + y_intercept"
   ]
  },
  {
   "cell_type": "code",
   "execution_count": 6,
   "metadata": {},
   "outputs": [
    {
     "data": {
      "text/plain": [
       "0.5"
      ]
     },
     "execution_count": 6,
     "metadata": {},
     "output_type": "execute_result"
    }
   ],
   "source": [
    "def linear_interpolation(x1, y1, x2, y2, x):\n",
    "    \"\"\"\n",
    "    Perform linear interpolation between two points to find y value at specified x.\n",
    "    \n",
    "    Parameters:\n",
    "    x1 (float): x-coordinate of the first point\n",
    "    y1 (float): y-coordinate of the first point\n",
    "    x2 (float): x-coordinate of the second point\n",
    "    y2 (float): y-coordinate of the second point\n",
    "    x (float): x value at which to interpolate\n",
    "    \n",
    "    Returns:\n",
    "    float: Interpolated y value at the specified x\n",
    "    \n",
    "    Raises:\n",
    "    ValueError: If x is outside the range [x1, x2]\n",
    "    \"\"\"\n",
    "    if x < x1 or x > x2:\n",
    "        raise ValueError(f'x value {x} is outside the range [{x1}, {x2}]')\n",
    "    \n",
    "    # Direct formula for linear interpolation\n",
    "    return y1 + (y2 - y1) * (x - x1) / (x2 - x1)\n",
    "\n",
    "linear_interpolation(0, 0, 1, 1, 0.5)  # Expected output: 0.5\n"
   ]
  },
  {
   "cell_type": "code",
   "execution_count": 12,
   "metadata": {},
   "outputs": [
    {
     "ename": "TypeError",
     "evalue": "LBFGS.step() missing 1 required positional argument: 'closure'",
     "output_type": "error",
     "traceback": [
      "\u001b[0;31m---------------------------------------------------------------------------\u001b[0m",
      "\u001b[0;31mTypeError\u001b[0m                                 Traceback (most recent call last)",
      "Cell \u001b[0;32mIn[12], line 68\u001b[0m\n\u001b[1;32m     66\u001b[0m losses\u001b[38;5;241m.\u001b[39mappend(loss\u001b[38;5;241m.\u001b[39mitem())\n\u001b[1;32m     67\u001b[0m loss\u001b[38;5;241m.\u001b[39mbackward()\n\u001b[0;32m---> 68\u001b[0m \u001b[43moptimizer\u001b[49m\u001b[38;5;241;43m.\u001b[39;49m\u001b[43mstep\u001b[49m\u001b[43m(\u001b[49m\u001b[43m)\u001b[49m\n\u001b[1;32m     70\u001b[0m \u001b[38;5;28;01mif\u001b[39;00m (i\u001b[38;5;241m+\u001b[39m\u001b[38;5;241m1\u001b[39m) \u001b[38;5;241m%\u001b[39m \u001b[38;5;241m20\u001b[39m \u001b[38;5;241m==\u001b[39m \u001b[38;5;241m0\u001b[39m:\n\u001b[1;32m     71\u001b[0m     \u001b[38;5;28mprint\u001b[39m(\u001b[38;5;124mf\u001b[39m\u001b[38;5;124m'\u001b[39m\u001b[38;5;124mIteration \u001b[39m\u001b[38;5;132;01m{\u001b[39;00mi\u001b[38;5;241m+\u001b[39m\u001b[38;5;241m1\u001b[39m\u001b[38;5;132;01m}\u001b[39;00m\u001b[38;5;124m/\u001b[39m\u001b[38;5;132;01m{\u001b[39;00mnum_iterations\u001b[38;5;132;01m}\u001b[39;00m\u001b[38;5;124m - Loss: \u001b[39m\u001b[38;5;132;01m{\u001b[39;00mloss\u001b[38;5;241m.\u001b[39mitem()\u001b[38;5;132;01m}\u001b[39;00m\u001b[38;5;124m'\u001b[39m)\n",
      "File \u001b[0;32m~/miniconda3/envs/post_env/lib/python3.12/site-packages/torch/optim/optimizer.py:493\u001b[0m, in \u001b[0;36mOptimizer.profile_hook_step.<locals>.wrapper\u001b[0;34m(*args, **kwargs)\u001b[0m\n\u001b[1;32m    488\u001b[0m         \u001b[38;5;28;01melse\u001b[39;00m:\n\u001b[1;32m    489\u001b[0m             \u001b[38;5;28;01mraise\u001b[39;00m \u001b[38;5;167;01mRuntimeError\u001b[39;00m(\n\u001b[1;32m    490\u001b[0m                 \u001b[38;5;124mf\u001b[39m\u001b[38;5;124m\"\u001b[39m\u001b[38;5;132;01m{\u001b[39;00mfunc\u001b[38;5;132;01m}\u001b[39;00m\u001b[38;5;124m must return None or a tuple of (new_args, new_kwargs), but got \u001b[39m\u001b[38;5;132;01m{\u001b[39;00mresult\u001b[38;5;132;01m}\u001b[39;00m\u001b[38;5;124m.\u001b[39m\u001b[38;5;124m\"\u001b[39m\n\u001b[1;32m    491\u001b[0m             )\n\u001b[0;32m--> 493\u001b[0m out \u001b[38;5;241m=\u001b[39m \u001b[43mfunc\u001b[49m\u001b[43m(\u001b[49m\u001b[38;5;241;43m*\u001b[39;49m\u001b[43margs\u001b[49m\u001b[43m,\u001b[49m\u001b[43m \u001b[49m\u001b[38;5;241;43m*\u001b[39;49m\u001b[38;5;241;43m*\u001b[39;49m\u001b[43mkwargs\u001b[49m\u001b[43m)\u001b[49m\n\u001b[1;32m    494\u001b[0m \u001b[38;5;28mself\u001b[39m\u001b[38;5;241m.\u001b[39m_optimizer_step_code()\n\u001b[1;32m    496\u001b[0m \u001b[38;5;66;03m# call optimizer step post hooks\u001b[39;00m\n",
      "File \u001b[0;32m~/miniconda3/envs/post_env/lib/python3.12/site-packages/torch/utils/_contextlib.py:116\u001b[0m, in \u001b[0;36mcontext_decorator.<locals>.decorate_context\u001b[0;34m(*args, **kwargs)\u001b[0m\n\u001b[1;32m    113\u001b[0m \u001b[38;5;129m@functools\u001b[39m\u001b[38;5;241m.\u001b[39mwraps(func)\n\u001b[1;32m    114\u001b[0m \u001b[38;5;28;01mdef\u001b[39;00m\u001b[38;5;250m \u001b[39m\u001b[38;5;21mdecorate_context\u001b[39m(\u001b[38;5;241m*\u001b[39margs, \u001b[38;5;241m*\u001b[39m\u001b[38;5;241m*\u001b[39mkwargs):\n\u001b[1;32m    115\u001b[0m     \u001b[38;5;28;01mwith\u001b[39;00m ctx_factory():\n\u001b[0;32m--> 116\u001b[0m         \u001b[38;5;28;01mreturn\u001b[39;00m \u001b[43mfunc\u001b[49m\u001b[43m(\u001b[49m\u001b[38;5;241;43m*\u001b[39;49m\u001b[43margs\u001b[49m\u001b[43m,\u001b[49m\u001b[43m \u001b[49m\u001b[38;5;241;43m*\u001b[39;49m\u001b[38;5;241;43m*\u001b[39;49m\u001b[43mkwargs\u001b[49m\u001b[43m)\u001b[49m\n",
      "\u001b[0;31mTypeError\u001b[0m: LBFGS.step() missing 1 required positional argument: 'closure'"
     ]
    }
   ],
   "source": [
    "import torch\n",
    "import gpytorch\n",
    "\n",
    "import matplotlib.pyplot as plt\n",
    "\n",
    "# Define a function that takes a 5D vector and computes a trigonometric function\n",
    "def trig_function(x):\n",
    "    \"\"\"\n",
    "    Compute a trigonometric function on a 5D vector.\n",
    "    \n",
    "    Parameters:\n",
    "    x (torch.Tensor): 5D input vector\n",
    "    \n",
    "    Returns:\n",
    "    torch.Tensor: Result of the trigonometric function\n",
    "    \"\"\"\n",
    "    # Extract components\n",
    "    x1, x2, x3, x4, x5 = x[:, 0], x[:, 1], x[:, 2], x[:, 3], x[:, 4]\n",
    "    \n",
    "    # Compute a trigonometric function\n",
    "    return (torch.sin(x1) * torch.cos(x2) + \n",
    "            torch.sin(x3) * torch.cos(x4) + \n",
    "            torch.sin(x1 + x5) * torch.cos(x2 * x3))\n",
    "\n",
    "# Generate some training data\n",
    "torch.manual_seed(0)  # For reproducibility\n",
    "n_samples = 100\n",
    "train_x = torch.rand(n_samples, 5) * 4 - 2  # Random values between -2 and 2\n",
    "train_y = trig_function(train_x)\n",
    "train_y += torch.randn(n_samples) * 0.1  # Add noise\n",
    "\n",
    "# Define the GP model\n",
    "class ExactGPModel(gpytorch.models.ExactGP):\n",
    "    def __init__(self, train_x, train_y, likelihood):\n",
    "        super(ExactGPModel, self).__init__(train_x, train_y, likelihood)\n",
    "        self.mean_module = gpytorch.means.ConstantMean()\n",
    "        \n",
    "        # RBF + Periodic kernel\n",
    "        self.rbf_kernel = gpytorch.kernels.RBFKernel(ard_num_dims=5)\n",
    "        self.periodic_kernel = gpytorch.kernels.PeriodicKernel(ard_num_dims=5)\n",
    "        self.covar_module = gpytorch.kernels.ScaleKernel(self.rbf_kernel) + gpytorch.kernels.ScaleKernel(self.periodic_kernel)\n",
    "    \n",
    "    def forward(self, x):\n",
    "        mean_x = self.mean_module(x)\n",
    "        covar_x = self.covar_module(x)\n",
    "        return gpytorch.distributions.MultivariateNormal(mean_x, covar_x)\n",
    "\n",
    "# Initialize likelihood and model\n",
    "likelihood = gpytorch.likelihoods.GaussianLikelihood()\n",
    "model = ExactGPModel(train_x, train_y, likelihood)\n",
    "\n",
    "# Training\n",
    "model.train()\n",
    "likelihood.train()\n",
    "optimizer = torch.optim.LBFGS(model.parameters(), lr=1.0, max_iter=20, history_size=100, line_search_fn=\"strong_wolfe\")\n",
    "mll = gpytorch.mlls.ExactMarginalLogLikelihood(likelihood, model)\n",
    "\n",
    "# Training loop\n",
    "num_iterations = 10000\n",
    "losses = []\n",
    "\n",
    "for i in range(num_iterations):\n",
    "    optimizer.zero_grad()\n",
    "    output = model(train_x)\n",
    "    loss = -mll(output, train_y)\n",
    "    losses.append(loss.item())\n",
    "    loss.backward()\n",
    "    optimizer.step()\n",
    "    \n",
    "    if (i+1) % 20 == 0:\n",
    "        print(f'Iteration {i+1}/{num_iterations} - Loss: {loss.item()}')\n",
    "\n",
    "# Final loss\n",
    "print(f'Final loss: {losses[-1]}')\n",
    "\n",
    "# Plot loss curve\n",
    "plt.figure(figsize=(10, 6))\n",
    "plt.plot(losses)\n",
    "plt.title('Training Loss Over Iterations')\n",
    "plt.xlabel('Iteration')\n",
    "plt.ylabel('Negative Log Likelihood Loss')\n",
    "plt.grid(True)"
   ]
  },
  {
   "cell_type": "code",
   "execution_count": null,
   "metadata": {},
   "outputs": [],
   "source": [
    "# Set the model to evaluation mode\n",
    "model.eval()\n",
    "likelihood.eval()\n",
    "\n",
    "# Let's generate predictions and evaluate the model\n",
    "with torch.no_grad():\n",
    "\t# Define test points\n",
    "\ttest_x = torch.rand(20, 5) * 4 - 2  # 20 test points between -2 and 2\n",
    "\t\n",
    "\t# Get predictions from the model\n",
    "\tobserved_pred = likelihood(model(test_x))\n",
    "\t\n",
    "\t# Calculate mean and standard deviation\n",
    "\tmean = observed_pred.mean\n",
    "\tlower, upper = observed_pred.confidence_region()\n",
    "\t\n",
    "\t# Calculate true values for comparison\n",
    "\ttrue_y = trig_function(test_x)\n",
    "\t\n",
    "\t# Calculate error metrics\n",
    "\tmse = torch.mean((mean - true_y)**2)\n",
    "\t\n",
    "\t# Print metrics\n",
    "\tprint(f\"Test MSE: {mse.item():.4f}\")\n",
    "\t\n",
    "\t# Print predicted vs true for first 5 test points\n",
    "\tprint(\"\\nPredictions for first 5 test points:\")\n",
    "\tfor i in range(5):\n",
    "\t\tprint(f\"True: {true_y[i].item():.4f}, Predicted: {mean[i].item():.4f}, Uncertainty: ±{(upper[i] - lower[i]).item()/2:.4f}\")\n",
    "\n",
    "# Let's visualize the model's performance on a 1D slice\n",
    "# We'll fix 4 dimensions and vary just one\n",
    "with torch.no_grad():\n",
    "\t# Create a 1D slice by fixing 4 dimensions\n",
    "\ttest_x_base = torch.zeros(100, 5)\n",
    "\ttest_x_base[:, 0] = torch.linspace(-2, 2, 100)  # Vary only first dimension\n",
    "\ttest_x_base[:, 1:] = 0.5  # Fix other dimensions\n",
    "\t\n",
    "\t# Get predictions\n",
    "\tobserved_pred = likelihood(model(test_x_base))\n",
    "\tmean = observed_pred.mean\n",
    "\tlower, upper = observed_pred.confidence_region()\n",
    "\t\n",
    "\t# Compute true values\n",
    "\ttrue_y = trig_function(test_x_base)\n",
    "\t\n",
    "\t# Plot the results\n",
    "\tplt.figure(figsize=(10, 6))\n",
    "\tplt.plot(test_x_base[:, 0].numpy(), true_y.numpy(), 'b-', label='True Function')\n",
    "\tplt.plot(test_x_base[:, 0].numpy(), mean.numpy(), 'r-', label='Predicted Mean')\n",
    "\tplt.fill_between(test_x_base[:, 0].numpy(), lower.numpy(), upper.numpy(), alpha=0.2, color='r', label='95% Confidence')\n",
    "\tplt.scatter(train_x[:, 0].numpy(), train_y.numpy(), c='k', marker='.', label='Training Data')\n",
    "\tplt.title('GP Model Prediction vs True Function (1D Slice)')\n",
    "\tplt.xlabel('x1 (other dimensions fixed at 0.5)')\n",
    "\tplt.ylabel('f(x)')\n",
    "\tplt.legend()\n",
    "\tplt.grid(True)\n"
   ]
  }
 ],
 "metadata": {
  "kernelspec": {
   "display_name": "post_env",
   "language": "python",
   "name": "python3"
  },
  "language_info": {
   "codemirror_mode": {
    "name": "ipython",
    "version": 3
   },
   "file_extension": ".py",
   "mimetype": "text/x-python",
   "name": "python",
   "nbconvert_exporter": "python",
   "pygments_lexer": "ipython3",
   "version": "3.12.9"
  }
 },
 "nbformat": 4,
 "nbformat_minor": 2
}
